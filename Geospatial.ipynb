{
 "cells": [
  {
   "cell_type": "markdown",
   "metadata": {},
   "source": [
    "## Introduction\n",
    "\n",
    "Geospatial analysis involves applying statistical analysis to data which has a geographical or geometrical aspect. In this tutorial we'll review the basics of acquiring geospatial data, handling it, and visualizing it. \n",
    "\n",
    "Think about how much data contains location as an aspect. Anything in which location makes a difference or can be represented by location is likely going to be a geospatial problem. With different computational tools, we can create beautiful and meaningful visualizations that tell us about how location affects a given trend. \n",
    "\n",
    "Before we get into the specifics, first we'll review some terminology that you should keep in mind. \n",
    "\n",
    "### Interior Set\n",
    "\n",
    "An Interior Set is the set of points contained within a geometrical object. If a geometrical object lies on the x-y axis, it contains points inside that object. For example, in the following image, there are two geometric objects and each one contains its own set of interior points. In ABC, its interior set include points like (3,1).\n",
    "\n",
    "![alt text](https://mathbitsnotebook.com/Algebra1/FunctionGraphs/refX2.jpg \"Logo Title Text 1\")\n",
    "\n",
    "\n",
    "### Boundary Set\n",
    "\n",
    "A Boundary Set is the set of points which form the outline of a geometrical object. Boundary Sets and Interior Sets have no intersection. From the previous image, any point that falls on the lines forming the triangles is in that object's boundary set. In ABC, some of those points include (1,3), (5,2), and (4, -1). \n",
    "\n",
    "### Exterior Set\n",
    "\n",
    "An Exterior Set is the set of all other points. For example, the point (2,-3) doesn't fall within any geometric object in this example, making it an exterior point. \n",
    "\n",
    "## Data Types\n",
    "\n",
    "Spatial data consists of location observations. Spatial data identifies features and positions on the Earth’s surface and is ultimately how we put our observations on the map.\n",
    "\n",
    "### Point\n",
    "\n",
    "A Point is a zero-dimensional object representing a single location. Put more simply, they're XY coordinates. Because points are zero-dimensional, they contain exactly one interior point, 0 boundary points, and infinite many exterior points. \n",
    "\n",
    "### Polygon\n",
    "\n",
    "A Polygon is a two-dimensional surface stored as a sequence of points defining the exterior. The example from the previous section is an example of a polygon! \n",
    "\n",
    "### Curve\n",
    "\n",
    "A Curve has an interior set consisting of the infinitely many points along its length, a boundary set consisting of its two end points, and an exterior set of all other points. \n",
    " \n",
    "### Surface\n",
    "\n",
    "A Surface has an interior set consisting of the infinitely many points within, a boundary set consisting of one or more Curves, and an exterior set of all other points.\n",
    "\n",
    "Surfaces have infinite many interior, exterior, and boundary points."
   ]
  },
  {
   "cell_type": "markdown",
   "metadata": {},
   "source": [
    "### geojson \n",
    "\n",
    "GeoJSON is a specific format for representing a variety of geographic objects. It supports the following geometry types: Point, LineString, Polygon, MultiPoint, MultiLineString, MultiPolygon, and GeometryCollection. \n",
    "\n",
    "Geojsonio is a tool used for visualizing geojson. Here we read in the geojson of a point and plot it on an interactive map. \n"
   ]
  },
  {
   "cell_type": "code",
   "execution_count": 12,
   "metadata": {
    "collapsed": true
   },
   "outputs": [],
   "source": [
    "from geojsonio import display\n",
    "\n",
    "with open('map.geojson') as f:\n",
    "    contents = f.read()\n",
    "    display(contents)"
   ]
  },
  {
   "cell_type": "code",
   "execution_count": 13,
   "metadata": {
    "collapsed": true
   },
   "outputs": [],
   "source": [
    "json = { \n",
    "        \"name\": \"Lesley\",\n",
    "        \"age\": 25, \n",
    "        \"lastname\": \"Cordero\"\n",
    "       }"
   ]
  },
  {
   "cell_type": "markdown",
   "metadata": {},
   "source": [
    "### Geospatial Data Visualization"
   ]
  },
  {
   "cell_type": "markdown",
   "metadata": {},
   "source": [
    "GeoPandas is a python module used to make working with geospatial data in python easier by extending the datatypes used by pandas to allow spatial operations on geometric types. So now that we know what polygons are, we can set up a map of the United States using data of the coordinates that shape each state. "
   ]
  },
  {
   "cell_type": "code",
   "execution_count": 2,
   "metadata": {},
   "outputs": [],
   "source": [
    "import geopandas as gpd\n",
    "import geojsonio\n",
    "\n",
    "states = gpd.read_file('states.geojson')\n",
    "geojsonio.display(states.to_json())"
   ]
  },
  {
   "cell_type": "markdown",
   "metadata": {},
   "source": [
    "Shapely converts feature geometry into GeoJSON structure and contains tools for geometry manipulations. This module works with three of the types of geometric objects we discussed before: points, curves, and surfaces. Descartes works off of shapely for visualizing geometric objects!\n",
    "\n",
    "First, we import the needed modules."
   ]
  },
  {
   "cell_type": "code",
   "execution_count": 15,
   "metadata": {
    "collapsed": true
   },
   "outputs": [],
   "source": [
    "from shapely.geometry import shape, LineString, Point\n",
    "from descartes import PolygonPatch\n",
    "import fiona\n",
    "import matplotlib.pyplot as plt"
   ]
  },
  {
   "cell_type": "markdown",
   "metadata": {},
   "source": [
    "These are some coordinates we'll need to plot the path of a flight from San Francisco to New York. "
   ]
  },
  {
   "cell_type": "code",
   "execution_count": 16,
   "metadata": {
    "collapsed": true
   },
   "outputs": [],
   "source": [
    "latlons = [(37.766, -122.43), (39.239, -114.89), (38.820, -104.82), (38.039, -97.96),\n",
    "    (38.940, -92.32), (39.156, -86.53), (40.749, -84.08), (41.494, -81.66),\n",
    "    (42.325, -80.06), (41.767, -78.01), (41.395, -75.68), (40.625, -73.780)]"
   ]
  },
  {
   "cell_type": "markdown",
   "metadata": {},
   "source": [
    "This simply takes the points and reformats the x and y (since it's originally coordinates) and converts it to a LineString type. "
   ]
  },
  {
   "cell_type": "code",
   "execution_count": 17,
   "metadata": {
    "collapsed": true
   },
   "outputs": [],
   "source": [
    "ls = LineString(latlons)"
   ]
  },
  {
   "cell_type": "markdown",
   "metadata": {},
   "source": [
    "So now we want to display this on a map. Using some data I found online (which you can access via the github), I turn each of these into polygon with fiona.  "
   ]
  },
  {
   "cell_type": "code",
   "execution_count": 18,
   "metadata": {
    "collapsed": true
   },
   "outputs": [],
   "source": [
    "with fiona.collection(\"shapefiles/statesp020.shp\") as features:\n",
    "        states = [shape(f['geometry']) for f in features]\n",
    "\n",
    "fig = plt.figure(figsize=(24, 12), dpi=180)"
   ]
  },
  {
   "cell_type": "markdown",
   "metadata": {},
   "source": [
    "\n",
    "In order to use plotly, you have to own an account with your own API key. To find these, go into your plotly folder and type the following command into your terminal:\n",
    "\n",
    "```\n",
    "vim ~/.plotly/.credentials\n",
    "```\n",
    "\n",
    "It should be in the following format - the username and api_key fieds will be especially important.\n",
    "\n",
    "``` \n",
    "{\n",
    "    \"username\": \"username\",\n",
    "    \"stream_ids\": [],\n",
    "    \"api_key\": \"api_key\",\n",
    "    \"proxy_username\": \"\",\n",
    "    \"proxy_password\": \"\"    \n",
    "}\n",
    "```\n",
    "And so here we begin. First, as always, we import the needed modules. From there, we initialize our session by signing in on plotly."
   ]
  },
  {
   "cell_type": "code",
   "execution_count": 23,
   "metadata": {
    "collapsed": true
   },
   "outputs": [],
   "source": [
    "import plotly.plotly as py\n",
    "from plotly.graph_objs import *\n",
    "\n",
    "py.sign_in('lc2958', 'xxxxx')"
   ]
  },
  {
   "cell_type": "markdown",
   "metadata": {},
   "source": [
    "Plotly supports three types of maps - chloropeth, atlas maps, and satelite maps. Using data from the electoral college, we'll plot a map of the United States with a color scale. The darker the color, the greater number of votes.\n",
    "\n",
    "So first, we load in the electoral college data. "
   ]
  },
  {
   "cell_type": "markdown",
   "metadata": {},
   "source": [
    "## Final Words\n",
    "\n",
    "Most of these techniques are interchangeable in R, but Python is one of the best suitable languages for geospatial analysis. Its modules and tools are built with developers in mind, making the transition into geospatial analysis must easier.\n",
    "\n",
    "### Resources\n",
    "\n",
    "[GeoJSON](http://geojson.org/) <br>\n",
    "[OpenStreetMap](https://www.openstreetmap.org/#map=5/51.500/-0.100) <br>\n",
    "[CartoDB](https://carto.com/)"
   ]
  },
  {
   "cell_type": "code",
   "execution_count": null,
   "metadata": {
    "collapsed": true
   },
   "outputs": [],
   "source": []
  }
 ],
 "metadata": {
  "kernelspec": {
   "display_name": "Python 3",
   "language": "python",
   "name": "python3"
  },
  "language_info": {
   "codemirror_mode": {
    "name": "ipython",
    "version": 3
   },
   "file_extension": ".py",
   "mimetype": "text/x-python",
   "name": "python",
   "nbconvert_exporter": "python",
   "pygments_lexer": "ipython3",
   "version": "3.6.1"
  }
 },
 "nbformat": 4,
 "nbformat_minor": 2
}

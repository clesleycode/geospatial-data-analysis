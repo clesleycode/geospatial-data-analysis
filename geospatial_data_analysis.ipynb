{
 "cells": [
  {
   "cell_type": "markdown",
   "metadata": {},
   "source": [
    "## 1.0 Background\n",
    "\n",
    "### 1.1 What is Geospatial Data Analysis? \n",
    "\n",
    "Geospatial analysis involves applying statistical analysis to data which has a geographical or geometrical aspect. In this tutorial we'll review the basics of acquiring geospatial data, handling it, and visualizing it. \n",
    "\n",
    "### 1.2 Why is Geospatial Analysis Important?\n",
    "\n",
    "Think about how much data contains location as an aspect. Anything in which location makes a difference or can be represented by location is likely going to be a geospatial problem. With different computational tools, we can create beautiful and meaningful visualizations that tell us about how location affects a given trend. \n",
    "\n",
    "### 1.3 Terminology\n",
    "\n",
    "Before we get into the specifics, first we'll review some terminology that you should keep in mind. \n",
    "\n",
    "#### 1.3.1 Interior Set\n",
    "\n",
    "An Interior Set is the set of points contained within a geometrical object. If a geometrical object lies on the x-y axis, it contains points inside that object. For example, in the following image, there are two geometric objects and each one contains its own set of interior points. In ABC, its interior set include points like (3,1).\n",
    "\n",
    "![alt text](https://mathbitsnotebook.com/Algebra1/FunctionGraphs/refX2.jpg \"Logo Title Text 1\")\n",
    "\n",
    "\n",
    "#### 1.3.2 Boundary Set\n",
    "\n",
    "A Boundary Set is the set of points which form the outline of a geometrical object. Boundary Sets and Interior Sets have no intersection. From the previous image, any point that falls on the lines forming the triangles is in that object's boundary set. In ABC, some of those points include (1,3), (5,2), and (4, -1). \n",
    "\n",
    "#### 1.3.3 Exterior Set\n",
    "\n",
    "An Exterior Set is the set of all other points. For example, the point (2,-3) doesn't fall within any geometric object in this example, making it an exterior point. \n",
    "\n",
    "### 1.4 Data Types\n",
    "\n",
    "Spatial data consists of location observations. Spatial data identifies features and positions on the Earth’s surface and is ultimately how we put our observations on the map.\n",
    "\n",
    "#### 1.4.1 Point\n",
    "\n",
    "A Point is a zero-dimensional object representing a single location. Put more simply, they're XY coordinates. Because points are zero-dimensional, they contain exactly one interior point, 0 boundary points, and infinite many exterior points. \n",
    "\n",
    "#### 1.4.2 Polygon\n",
    "\n",
    "A Polygon is a two-dimensional surface stored as a sequence of points defining the exterior. The example from the previous section is an example of a polygon! \n",
    "\n",
    "#### 1.4.3 Curve\n",
    "\n",
    "A Curve has an interior set consisting of the infinitely many points along its length, a boundary set consisting of its two end points, and an exterior set of all other points. \n",
    " \n",
    "#### 1.4.4 Surface\n",
    "\n",
    "A Surface has an interior set consisting of the infinitely many points within, a boundary set consisting of one or more Curves, and an exterior set of all other points.\n",
    "\n",
    "Surfaces have infinite many interior, exterior, and boundary points."
   ]
  },
  {
   "cell_type": "markdown",
   "metadata": {},
   "source": [
    "## 2.0 Geojsonio and Geopandas \n",
    "\n",
    "GeoJSON is a specific format for representing a variety of geographic objects. It supports the following geometry types: Point, LineString, Polygon, MultiPoint, MultiLineString, MultiPolygon, and GeometryCollection. \n",
    "\n",
    "### 2.1 Geojsonio\n",
    "\n",
    "Geojsonio is a tool used for visualizing geojson. Here we read in the geojson of a point and plot it on an interactive map. \n"
   ]
  },
  {
   "cell_type": "code",
   "execution_count": 12,
   "metadata": {
    "collapsed": true
   },
   "outputs": [],
   "source": [
    "from geojsonio import display\n",
    "\n",
    "with open('map.geojson') as f:\n",
    "    contents = f.read()\n",
    "    display(contents)"
   ]
  },
  {
   "cell_type": "code",
   "execution_count": 13,
   "metadata": {
    "collapsed": true
   },
   "outputs": [],
   "source": [
    "json = { \n",
    "        \"name\": \"Lesley\",\n",
    "        \"age\": 25, \n",
    "        \"lastname\": \"Cordero\"\n",
    "       }"
   ]
  },
  {
   "cell_type": "markdown",
   "metadata": {},
   "source": [
    "### 2.2 Geopandas\n",
    "\n",
    "GeoPandas is a python module used to make working with geospatial data in python easier by extending the datatypes used by pandas to allow spatial operations on geometric types. So now that we know what polygons are, we can set up a map of the United States using data of the coordinates that shape each state. "
   ]
  },
  {
   "cell_type": "code",
   "execution_count": 1,
   "metadata": {
    "collapsed": true
   },
   "outputs": [],
   "source": [
    "import geopandas as gpd\n",
    "import geojsonio\n",
    "\n",
    "states = gpd.read_file('states.geojson')\n",
    "geojsonio.display(states.to_json())"
   ]
  },
  {
   "cell_type": "markdown",
   "metadata": {},
   "source": [
    "## 3.0 Shapely and Descartes\n",
    "\n",
    "Shapely converts feature geometry into GeoJSON structure and contains tools for geometry manipulations. This module works with three of the types of geometric objects we discussed before: points, curves, and surfaces. Descartes works off of shapely for visualizing geometric objects!\n",
    "\n",
    "First, we import the needed modules."
   ]
  },
  {
   "cell_type": "code",
   "execution_count": 15,
   "metadata": {
    "collapsed": true
   },
   "outputs": [],
   "source": [
    "from shapely.geometry import shape, LineString, Point\n",
    "from descartes import PolygonPatch\n",
    "import fiona\n",
    "import matplotlib.pyplot as plt"
   ]
  },
  {
   "cell_type": "markdown",
   "metadata": {},
   "source": [
    "These are some coordinates we'll need to plot the path of a flight from San Francisco to New York. "
   ]
  },
  {
   "cell_type": "code",
   "execution_count": 16,
   "metadata": {
    "collapsed": true
   },
   "outputs": [],
   "source": [
    "latlons = [(37.766, -122.43), (39.239, -114.89), (38.820, -104.82), (38.039, -97.96),\n",
    "    (38.940, -92.32), (39.156, -86.53), (40.749, -84.08), (41.494, -81.66),\n",
    "    (42.325, -80.06), (41.767, -78.01), (41.395, -75.68), (40.625, -73.780)]"
   ]
  },
  {
   "cell_type": "markdown",
   "metadata": {},
   "source": [
    "This simply takes the points and reformats the x and y (since it's originally coordinates) and converts it to a LineString type. "
   ]
  },
  {
   "cell_type": "code",
   "execution_count": 17,
   "metadata": {
    "collapsed": true
   },
   "outputs": [],
   "source": [
    "ls = LineString(latlons)"
   ]
  },
  {
   "cell_type": "markdown",
   "metadata": {},
   "source": [
    "So now we want to display this on a map. Using some data I found online (which you can access via the github), I turn each of these into polygon with fiona.  "
   ]
  },
  {
   "cell_type": "code",
   "execution_count": 18,
   "metadata": {
    "collapsed": true
   },
   "outputs": [],
   "source": [
    "with fiona.collection(\"shapefiles/statesp020.shp\") as features:\n",
    "        states = [shape(f['geometry']) for f in features]\n",
    "\n",
    "fig = plt.figure(figsize=(24, 12), dpi=180)"
   ]
  },
  {
   "cell_type": "markdown",
   "metadata": {},
   "source": [
    "Don't worry about this section too much, but it basically finds where the intersections occur to denote a dark outline. "
   ]
  },
  {
   "cell_type": "code",
   "execution_count": 19,
   "metadata": {
    "collapsed": true
   },
   "outputs": [],
   "source": [
    "for state in states:\n",
    "    if state.geom_type == 'Polygon':\n",
    "        state = [state]\n",
    "\n",
    "    for poly in state:\n",
    "        if ls.intersects(poly):\n",
    "            alpha = 0.4\n",
    "        else:\n",
    "            alpha = 0.4\n",
    "\n",
    "        try:\n",
    "            poly_patch = PolygonPatch(poly, fc=\"#6699cc\", ec=\"#6699cc\", alpha=alpha, zorder=2)\n",
    "            fig.gca().add_patch(poly_patch)\n",
    "        except:\n",
    "            pass"
   ]
  },
  {
   "cell_type": "markdown",
   "metadata": {},
   "source": [
    "Here, we format the specifics of our plot. "
   ]
  },
  {
   "cell_type": "code",
   "execution_count": 20,
   "metadata": {},
   "outputs": [
    {
     "data": {
      "text/plain": [
       "[<matplotlib.lines.Line2D at 0x1159aeba8>]"
      ]
     },
     "execution_count": 20,
     "metadata": {},
     "output_type": "execute_result"
    }
   ],
   "source": [
    "fig.gca().plot(*ls.xy, color='#FFFFFF')"
   ]
  },
  {
   "cell_type": "markdown",
   "metadata": {},
   "source": [
    "This is where we set the outlines to a separate color. "
   ]
  },
  {
   "cell_type": "code",
   "execution_count": 21,
   "metadata": {
    "collapsed": true
   },
   "outputs": [],
   "source": [
    "for x, y in path:\n",
    "    p = Point(x, y)\n",
    "    spot = p.buffer(.1)\n",
    "    x, y = spot.exterior.xy\n",
    "    plt.fill(x, y, color='#cc6666', aa=True)\n",
    "    plt.plot(x, y, color='#cc6666', aa=True, lw=1.0)"
   ]
  },
  {
   "cell_type": "markdown",
   "metadata": {},
   "source": [
    "And finally, we save this image we have created to a file with a png extension. "
   ]
  },
  {
   "cell_type": "code",
   "execution_count": 22,
   "metadata": {
    "collapsed": true
   },
   "outputs": [],
   "source": [
    "fig.gca().axis([-125, -65, 25, 50])\n",
    "fig.gca().axis('off')\n",
    "fig.savefig(\"states.png\", facecolor='#F2F2F2', edgecolor='#F2F2F2')"
   ]
  },
  {
   "cell_type": "markdown",
   "metadata": {},
   "source": [
    "Which should get you something like this:\n",
    "\n",
    "![alt text](https://github.com/lesley2958/geospatial-data-analysis/blob/master/states.png?raw=true \"Logo Title Text 1\")"
   ]
  },
  {
   "cell_type": "markdown",
   "metadata": {},
   "source": [
    "## Plotly\n",
    "\n",
    "In order to use plotly, you have to own an account with your own API key. To find these, go into your plotly folder and type the following command into your terminal:\n",
    "\n",
    "```\n",
    "vim ~/.plotly/.credentials\n",
    "```\n",
    "\n",
    "It should be in the following format - the username and api_key fields will be especially important.\n",
    "\n",
    "``` \n",
    "{\n",
    "    \"username\": \"username\",\n",
    "    \"stream_ids\": [],\n",
    "    \"api_key\": \"api_key\",\n",
    "    \"proxy_username\": \"\",\n",
    "    \"proxy_password\": \"\"    \n",
    "}\n",
    "```\n",
    "And so here we begin. First, as always, we import the needed modules. From there, we initialize our session by signing in on plotly."
   ]
  },
  {
   "cell_type": "code",
   "execution_count": 23,
   "metadata": {
    "collapsed": true
   },
   "outputs": [],
   "source": [
    "import plotly.plotly as py\n",
    "from plotly.graph_objs import *\n",
    "\n",
    "py.sign_in('lc2958', 'lz0qbecyjk')"
   ]
  },
  {
   "cell_type": "markdown",
   "metadata": {},
   "source": [
    "Plotly supports three types of maps - chloropeth, atlas maps, and satelite maps. Using data from the electoral college, we'll plot a map of the United States with a color scale. The darker the color, the greater number of votes.\n",
    "\n",
    "So first, we load in the electoral college data. "
   ]
  },
  {
   "cell_type": "code",
   "execution_count": null,
   "metadata": {
    "collapsed": true
   },
   "outputs": [],
   "source": [
    "data = Data([\n",
    "    Choropleth(\n",
    "        z=[3.0, 3.0, 3.0, 3.0, 3.0, 3.0, 3.0, 3.0, 4.0, 4.0, 4.0, 4.0, 4.0, 5.0, 5.0, 5.0, 6.0, 6.0, 6.0, 6.0, 6.0, 6.0, 7.0, 7.0, 7.0, 8.0, 8.0, 9.0, 9.0, 9.0, 10.0, 10.0, 10.0, 10.0, 11.0, 11.0, 11.0, 11.0, 12.0, 13.0, 14.0, 15.0, 16.0, 16.0, 18.0, 20.0, 20.0, 29.0, 29.0, 38.0, 55.0],\n",
    "        autocolorscale=False,\n",
    "        colorbar=ColorBar(\n",
    "            title='Votes'\n",
    "        ),"
   ]
  },
  {
   "cell_type": "markdown",
   "metadata": {},
   "source": [
    "In the same 'Data' call, we feed in parameters that will be our sliding scale. "
   ]
  },
  {
   "cell_type": "code",
   "execution_count": null,
   "metadata": {
    "collapsed": true
   },
   "outputs": [],
   "source": [
    "        colorscale=[[0.0, 'rgb(242,240,247)'], [0.2, 'rgb(218,218,235)'], [0.4, 'rgb(188,189,220)'], [0.6, 'rgb(158,154,200)'], [0.8, 'rgb(117,107,177)'], [1.0, 'rgb(84,39,143)']],\n",
    "        hoverinfo='location+z',"
   ]
  },
  {
   "cell_type": "markdown",
   "metadata": {},
   "source": [
    "Again, continuing the parameters, we add labels for each state.  "
   ]
  },
  {
   "cell_type": "code",
   "execution_count": null,
   "metadata": {
    "collapsed": true
   },
   "outputs": [],
   "source": [
    "        locationmode='USA-states',\n",
    "        locations=['DE', 'VT', 'ND', 'SD', 'MT', 'WY', 'AK', 'DC', 'NH', 'RI', 'ME', 'ID', 'HI', 'WV', 'NE', 'NM', 'MS', 'AR', 'IA', 'KS', 'NV', 'UT', 'CT', 'OR', 'OK', 'KY', 'LA', 'SC', 'AL', 'CO', 'MD', 'MO', 'WI', 'MN', 'MA', 'TN', 'IN', 'AZ', 'WA', 'VA', 'NJ', 'NC', 'GA', 'MI', 'OH', 'PA', 'IL', 'NY', 'FL', 'TX', 'CA'],\n",
    "        marker=Marker(\n",
    "            line=Line(\n",
    "                color='rgb(255,255,255)',\n",
    "                width=2\n",
    "            )\n",
    "        ),\n",
    "        text=['DE', 'VT', 'ND', 'SD', 'MT', 'WY', 'AK', 'DC', 'NH', 'RI', 'ME', 'ID', 'HI', 'WV', 'NE', 'NM', 'MS', 'AR', 'IA', 'KS', 'NV', 'UT', 'CT', 'OR', 'OK', 'KY', 'LA', 'SC', 'AL', 'CO', 'MD', 'MO', 'WI', 'MN', 'MA', 'TN', 'IN', 'AZ', 'WA', 'VA', 'NJ', 'NC', 'GA', 'MI', 'OH', 'PA', 'IL', 'NY', 'FL', 'TX', 'CA']\n",
    "    )\n",
    "])"
   ]
  },
  {
   "cell_type": "markdown",
   "metadata": {},
   "source": [
    "As a final product, we'll have: "
   ]
  },
  {
   "cell_type": "code",
   "execution_count": null,
   "metadata": {
    "collapsed": true
   },
   "outputs": [],
   "source": [
    "data = Data([\n",
    "    Choropleth(\n",
    "        z=[3.0, 3.0, 3.0, 3.0, 3.0, 3.0, 3.0, 3.0, 4.0, 4.0, 4.0, 4.0, 4.0, 5.0, 5.0, 5.0, 6.0, 6.0, 6.0, 6.0, 6.0, 6.0, 7.0, 7.0, 7.0, 8.0, 8.0, 9.0, 9.0, 9.0, 10.0, 10.0, 10.0, 10.0, 11.0, 11.0, 11.0, 11.0, 12.0, 13.0, 14.0, 15.0, 16.0, 16.0, 18.0, 20.0, 20.0, 29.0, 29.0, 38.0, 55.0],\n",
    "        autocolorscale=False,\n",
    "        colorbar=ColorBar(\n",
    "            title='Votes'\n",
    "        ),\n",
    "        colorscale=[[0.0, 'rgb(242,240,247)'], [0.2, 'rgb(218,218,235)'], [0.4, 'rgb(188,189,220)'], [0.6, 'rgb(158,154,200)'], [0.8, 'rgb(117,107,177)'], [1.0, 'rgb(84,39,143)']],\n",
    "        hoverinfo='location+z',\n",
    "        locationmode='USA-states',\n",
    "        locations=['DE', 'VT', 'ND', 'SD', 'MT', 'WY', 'AK', 'DC', 'NH', 'RI', 'ME', 'ID', 'HI', 'WV', 'NE', 'NM', 'MS', 'AR', 'IA', 'KS', 'NV', 'UT', 'CT', 'OR', 'OK', 'KY', 'LA', 'SC', 'AL', 'CO', 'MD', 'MO', 'WI', 'MN', 'MA', 'TN', 'IN', 'AZ', 'WA', 'VA', 'NJ', 'NC', 'GA', 'MI', 'OH', 'PA', 'IL', 'NY', 'FL', 'TX', 'CA'],\n",
    "        marker=Marker(\n",
    "            line=Line(\n",
    "                color='rgb(255,255,255)',\n",
    "                width=2\n",
    "            )\n",
    "        ),\n",
    "        text=['DE', 'VT', 'ND', 'SD', 'MT', 'WY', 'AK', 'DC', 'NH', 'RI', 'ME', 'ID', 'HI', 'WV', 'NE', 'NM', 'MS', 'AR', 'IA', 'KS', 'NV', 'UT', 'CT', 'OR', 'OK', 'KY', 'LA', 'SC', 'AL', 'CO', 'MD', 'MO', 'WI', 'MN', 'MA', 'TN', 'IN', 'AZ', 'WA', 'VA', 'NJ', 'NC', 'GA', 'MI', 'OH', 'PA', 'IL', 'NY', 'FL', 'TX', 'CA']\n",
    "    )\n",
    "])"
   ]
  },
  {
   "cell_type": "markdown",
   "metadata": {},
   "source": [
    "And so now, we've formatted our data. But of course, there needs to be a layout for our code to follow. Luckily, we can just use the Layout method. As parameters, we feed in color schemes and labels. "
   ]
  },
  {
   "cell_type": "code",
   "execution_count": null,
   "metadata": {
    "collapsed": true
   },
   "outputs": [],
   "source": [
    "layout = Layout(\n",
    "    geo=dict(\n",
    "        lakecolor='rgb(255, 255, 255)',\n",
    "        projection=dict(\n",
    "            type='albers usa'\n",
    "        ),\n",
    "        scope='usa',\n",
    "        showlakes=True\n",
    "    ),\n",
    "    title='2016 Electoral College Votes'\n",
    ")"
   ]
  },
  {
   "cell_type": "markdown",
   "metadata": {},
   "source": [
    "And we're almost done! The last step is to simply construct the map and use plotly to actually display it. "
   ]
  },
  {
   "cell_type": "code",
   "execution_count": null,
   "metadata": {
    "collapsed": true
   },
   "outputs": [],
   "source": [
    "fig = Figure(data=data, layout=layout)\n",
    "plot_url = py.plot(fig)"
   ]
  },
  {
   "cell_type": "markdown",
   "metadata": {},
   "source": [
    "## 5.0 Google Maps  \n",
    "\n",
    "The Google Maps API is an awesome resource when working on a project involving any sort of map visualization or analysis. Its one downside is that there is a query limit, which is why we'll be working with a very small dataset.\n",
    "\n",
    "We'll be using several modules for this exercise! "
   ]
  },
  {
   "cell_type": "code",
   "execution_count": null,
   "metadata": {
    "collapsed": true
   },
   "outputs": [],
   "source": [
    "import pandas as pd \n",
    "import geocoder \n",
    "from shapely.geometry import Point\n",
    "from geopandas import GeoDataFrame\n",
    "from geojson import Feature, FeatureCollection\n",
    "from geojsonio import display"
   ]
  },
  {
   "cell_type": "markdown",
   "metadata": {},
   "source": [
    "Here we use `pandas` to open a CSV with the names and addresses of the 4 local boba shops from this location. `Googlemaps` is what will allow us to eventually retrieve the coordinates of each boba place:"
   ]
  },
  {
   "cell_type": "code",
   "execution_count": null,
   "metadata": {
    "collapsed": true
   },
   "outputs": [],
   "source": [
    "boba = pd.read_csv('./boba.csv')"
   ]
  },
  {
   "cell_type": "markdown",
   "metadata": {},
   "source": [
    "Now, let's take a look at our boba dataframe:\n",
    "\n",
    "             Name:                           Address        \n",
    "0        Boba Guys  11 Waverly Pl New York, NY 10002    \n",
    "1          Jupioca   123 W 3rd St New York, NY 10012    \n",
    "2      Kung Fu Tea  31 Waverly Pl New York, NY 10003    \n",
    "3  Vivi Bubble Tea    65 W 8th St New York, NY 10011\n",
    "\n",
    "So as I said, this dataframe contains the name and addresses of 4 bubble tea places. From these addresses, we want to create 2 <b>new</b> columns containing the latitude and longitudes of each. \n",
    "\n",
    "Notice that we have two apply functions to transform the address into the geometric types we want. The first apply function uses`geocoder.google` to encode the address as geometric object. The second apply function pulls the latitude or longitude attribute of that object. "
   ]
  },
  {
   "cell_type": "code",
   "execution_count": null,
   "metadata": {
    "collapsed": true
   },
   "outputs": [],
   "source": [
    "boba['Lat'] = boba['Address'].apply(geocoder.google).apply(lambda x: x.lat)\n",
    "boba['Longitude'] = boba['Address'].apply(geocoder.google).apply(lambda x: x.lng)"
   ]
  },
  {
   "cell_type": "markdown",
   "metadata": {},
   "source": [
    "Now that we have the latitude and longitude of each bubble tea place, we can make another new column to store the points using `shapely`. "
   ]
  },
  {
   "cell_type": "code",
   "execution_count": null,
   "metadata": {
    "collapsed": true
   },
   "outputs": [],
   "source": [
    "boba['Coordinates'] = [Point(xy) for xy in zip(boba.Longitude, boba.Lat)]"
   ]
  },
  {
   "cell_type": "markdown",
   "metadata": {},
   "source": [
    "The `crs` parameter is simply a reference to what kind of coordinate system we're using. Once we've declared those, we can convert the data we've got into a `GeoDataFrame`. This is an important step because it then allows us to very easily convert it to geojson. "
   ]
  },
  {
   "cell_type": "code",
   "execution_count": null,
   "metadata": {
    "collapsed": true
   },
   "outputs": [],
   "source": [
    "crs = {'init': 'epsg:4326'}\n",
    "geo_df = GeoDataFrame(boba['Name:'], crs=crs, geometry=list(boba['Coordinates']))"
   ]
  },
  {
   "cell_type": "markdown",
   "metadata": {},
   "source": [
    "Above, `boba['Name:']` is the first parameter because it will serve as provided information in the visualization. The geometry parameter is a reference to the coordinate data, converted to a list. Finally, we can convert it to geojson and display it using geojsonio!"
   ]
  },
  {
   "cell_type": "code",
   "execution_count": null,
   "metadata": {
    "collapsed": true
   },
   "outputs": [],
   "source": [
    "display(geo_df.to_json())"
   ]
  },
  {
   "cell_type": "markdown",
   "metadata": {},
   "source": [
    "## 6.0 Final Words\n",
    "\n",
    "Most of these techniques are interchangeable in R, but Python is one of the best suitable languages for geospatial analysis. Its modules and tools are built with developers in mind, making the transition into geospatial analysis must easier.\n",
    "\n",
    "### 6.1 Resources\n",
    "\n",
    "[GeoJSON](http://geojson.org/) <br>\n",
    "[OpenStreetMap](https://www.openstreetmap.org/#map=5/51.500/-0.100) <br>\n",
    "[CartoDB](https://carto.com/)"
   ]
  }
 ],
 "metadata": {
  "kernelspec": {
   "display_name": "Python 3",
   "language": "python",
   "name": "python3"
  },
  "language_info": {
   "codemirror_mode": {
    "name": "ipython",
    "version": 3
   },
   "file_extension": ".py",
   "mimetype": "text/x-python",
   "name": "python",
   "nbconvert_exporter": "python",
   "pygments_lexer": "ipython3",
   "version": "3.6.1"
  }
 },
 "nbformat": 4,
 "nbformat_minor": 2
}
